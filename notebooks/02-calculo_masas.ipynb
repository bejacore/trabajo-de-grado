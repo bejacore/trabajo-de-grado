{
 "cells": [
  {
   "cell_type": "code",
   "execution_count": 1,
   "id": "017ff1eb",
   "metadata": {},
   "outputs": [],
   "source": [
    "import numpy as np\n",
    "import pandas as pd\n",
    "import matplotlib.pyplot as plt\n",
    "\n",
    "from astropy.table import QTable"
   ]
  },
  {
   "cell_type": "markdown",
   "id": "3b40c8ec",
   "metadata": {},
   "source": [
    "# Tabla de miembros"
   ]
  },
  {
   "cell_type": "code",
   "execution_count": 2,
   "id": "b9aa0e2d",
   "metadata": {},
   "outputs": [
    {
     "name": "stderr",
     "output_type": "stream",
     "text": [
      "WARNING: dropping mask in Quantity column 'RV': masked Quantity not supported [astropy.table.table]\n"
     ]
    }
   ],
   "source": [
    "members = QTable.read('./../data/raw/members.fit')\n",
    "members = members.to_pandas()"
   ]
  },
  {
   "cell_type": "markdown",
   "id": "4ae73dc4",
   "metadata": {},
   "source": [
    "# Tabla de clusters"
   ]
  },
  {
   "cell_type": "code",
   "execution_count": 3,
   "id": "7fdf4ddb",
   "metadata": {},
   "outputs": [
    {
     "name": "stderr",
     "output_type": "stream",
     "text": [
      "WARNING: dropping mask in Quantity column 'MassTot': masked Quantity not supported [astropy.table.table]\n"
     ]
    }
   ],
   "source": [
    "clusters = QTable.read('./../data/raw/clusters.fit')\n",
    "clusters = clusters.to_pandas()\n",
    "clusters = clusters.sort_values(by='N', ascending=False)"
   ]
  },
  {
   "cell_type": "markdown",
   "id": "9ef229d6",
   "metadata": {},
   "source": [
    "# Tabla de gravedad superficial y radio de cada miembro\n",
    "\n",
    "Estos dos datos se recuperaron del archivo de Gaia de la tabla `gaiadr3.astrophysical_parameters`."
   ]
  },
  {
   "cell_type": "code",
   "execution_count": 4,
   "id": "f14236bc",
   "metadata": {},
   "outputs": [
    {
     "name": "stderr",
     "output_type": "stream",
     "text": [
      "WARNING: dropping mask in Quantity column 'logg_gspphot': masked Quantity not supported [astropy.table.table]\n",
      "WARNING: dropping mask in Quantity column 'radius_gspphot': masked Quantity not supported [astropy.table.table]\n"
     ]
    }
   ],
   "source": [
    "logg_R_members = QTable.read('./../data/raw/logg_R_members.fits')\n",
    "logg_R_members = logg_R_members.to_pandas()"
   ]
  },
  {
   "cell_type": "markdown",
   "id": "a4eab096",
   "metadata": {},
   "source": [
    "---\n",
    "Se procede a filtrar los datos de los miembros del cúmulo con más miembros, esto se hace igual que en el notebook `01-exploracion.ipynb`."
   ]
  },
  {
   "cell_type": "code",
   "execution_count": 5,
   "id": "471bdad9",
   "metadata": {},
   "outputs": [],
   "source": [
    "cluster_members = members[members['Name'] == clusters.iloc[1, 0]]"
   ]
  },
  {
   "cell_type": "markdown",
   "id": "2180292c",
   "metadata": {},
   "source": [
    "Luego se une la tabla `cluster_members` y `logg_R_members`."
   ]
  },
  {
   "cell_type": "code",
   "execution_count": 6,
   "id": "bafe8ff6",
   "metadata": {},
   "outputs": [],
   "source": [
    "cluster_members = pd.merge(cluster_members, logg_R_members[['GaiaDR3', 'logg_gspphot', 'radius_gspphot']], \n",
    "                           how='left', on='GaiaDR3')"
   ]
  },
  {
   "cell_type": "markdown",
   "id": "63226fdf",
   "metadata": {},
   "source": [
    "Se filtran los datados que sean NaN para $\\log{g}$, como para el radio."
   ]
  },
  {
   "cell_type": "code",
   "execution_count": 7,
   "id": "16550556",
   "metadata": {},
   "outputs": [],
   "source": [
    "cluster_members_mass = cluster_members[\n",
    "    (cluster_members['logg_gspphot'].notna()) & \n",
    "    cluster_members['radius_gspphot'].notna()]"
   ]
  },
  {
   "cell_type": "markdown",
   "id": "93fdc0a5",
   "metadata": {},
   "source": [
    "Ahora, para hallar la masa se tiene en cuenta que: $$g = \\frac{GM}{R^2}$$\n",
    "\n",
    "Tenemos $\\log{g}$, por lo tanto $g = 10^{\\log{g}}$. Donde hay que tener en cuenta que $[g] = \\text{cm}\\ \\text{s}^{-2}$\n",
    "\n",
    "Para el cálculo de la masa se expresarán todas las unidades en el sistema internacional."
   ]
  },
  {
   "cell_type": "markdown",
   "id": "c33eaf80",
   "metadata": {},
   "source": [
    "Se crea una nueva columna que contenga los valores de $g\\ [\\text{m}\\ \\text{s}^{-2}]$. "
   ]
  },
  {
   "cell_type": "code",
   "execution_count": 8,
   "id": "b674f87a",
   "metadata": {},
   "outputs": [
    {
     "name": "stderr",
     "output_type": "stream",
     "text": [
      "/Users/carlosabej/opt/anaconda3/envs/astroconda/lib/python3.7/site-packages/ipykernel_launcher.py:1: SettingWithCopyWarning: \n",
      "A value is trying to be set on a copy of a slice from a DataFrame.\n",
      "Try using .loc[row_indexer,col_indexer] = value instead\n",
      "\n",
      "See the caveats in the documentation: https://pandas.pydata.org/pandas-docs/stable/user_guide/indexing.html#returning-a-view-versus-a-copy\n",
      "  \"\"\"Entry point for launching an IPython kernel.\n"
     ]
    }
   ],
   "source": [
    "cluster_members_mass['g'] = cluster_members_mass['logg_gspphot'].apply(lambda x: 10**x/100)"
   ]
  },
  {
   "cell_type": "markdown",
   "id": "9325d222",
   "metadata": {},
   "source": [
    "El radio de las estrellas dados por Gaia tienen unidades de $\\text{R}_\\odot$, entonces se crea una nueva columna con el radio de la estrella en metros."
   ]
  },
  {
   "cell_type": "code",
   "execution_count": 9,
   "id": "0a11695a",
   "metadata": {},
   "outputs": [
    {
     "name": "stderr",
     "output_type": "stream",
     "text": [
      "/Users/carlosabej/opt/anaconda3/envs/astroconda/lib/python3.7/site-packages/ipykernel_launcher.py:2: SettingWithCopyWarning: \n",
      "A value is trying to be set on a copy of a slice from a DataFrame.\n",
      "Try using .loc[row_indexer,col_indexer] = value instead\n",
      "\n",
      "See the caveats in the documentation: https://pandas.pydata.org/pandas-docs/stable/user_guide/indexing.html#returning-a-view-versus-a-copy\n",
      "  \n"
     ]
    }
   ],
   "source": [
    "R_sun = 6.96e8 # m\n",
    "cluster_members_mass['R'] = cluster_members_mass['radius_gspphot'] * R_sun"
   ]
  },
  {
   "cell_type": "markdown",
   "id": "b8569937",
   "metadata": {},
   "source": [
    "Por último se procede a calcular la masa de las estrellas usando: $$M = \\frac{R^2 g}{G}$$ donde el resultado final se expresa en unidades de masas solares."
   ]
  },
  {
   "cell_type": "code",
   "execution_count": 10,
   "id": "4bc4cab4",
   "metadata": {},
   "outputs": [
    {
     "name": "stderr",
     "output_type": "stream",
     "text": [
      "/Users/carlosabej/opt/anaconda3/envs/astroconda/lib/python3.7/site-packages/ipykernel_launcher.py:3: SettingWithCopyWarning: \n",
      "A value is trying to be set on a copy of a slice from a DataFrame.\n",
      "Try using .loc[row_indexer,col_indexer] = value instead\n",
      "\n",
      "See the caveats in the documentation: https://pandas.pydata.org/pandas-docs/stable/user_guide/indexing.html#returning-a-view-versus-a-copy\n",
      "  This is separate from the ipykernel package so we can avoid doing imports until\n"
     ]
    }
   ],
   "source": [
    "G = 6.67430e-11 # m^3 s^-2 kg^-1\n",
    "M_sun = 1.989e30 # kg\n",
    "cluster_members_mass['M'] = (cluster_members_mass['R']**2 * cluster_members_mass['g'])/(G * M_sun)"
   ]
  },
  {
   "cell_type": "markdown",
   "id": "fcf74d2d",
   "metadata": {},
   "source": [
    "Las masas obtenidas fueron:"
   ]
  },
  {
   "cell_type": "code",
   "execution_count": 11,
   "id": "8cdee078",
   "metadata": {},
   "outputs": [
    {
     "data": {
      "text/plain": [
       "0        0.504345\n",
       "2        0.621158\n",
       "3        0.493857\n",
       "4        0.577683\n",
       "5        0.484872\n",
       "           ...   \n",
       "66003    0.443455\n",
       "66004    0.621201\n",
       "66006    0.744699\n",
       "66008    0.603021\n",
       "66009    0.585515\n",
       "Name: M, Length: 35011, dtype: float64"
      ]
     },
     "execution_count": 11,
     "metadata": {},
     "output_type": "execute_result"
    }
   ],
   "source": [
    "cluster_members_mass['M']"
   ]
  },
  {
   "cell_type": "markdown",
   "id": "732159e6",
   "metadata": {},
   "source": [
    "# Diagramas color-magnitud y diagramas color-color\n",
    "\n",
    "Se grafican los diagramas tanto para las estrellas que tienen masa, como para las que no tienen masa, esto con el objetivo de encontrar las masas faltantes."
   ]
  },
  {
   "cell_type": "code",
   "execution_count": 12,
   "id": "ecbea688",
   "metadata": {},
   "outputs": [],
   "source": [
    "cluster_members_no_mass = cluster_members[(cluster_members['logg_gspphot'].isna()) & cluster_members['radius_gspphot'].isna()]"
   ]
  },
  {
   "cell_type": "markdown",
   "id": "27fa7ab0",
   "metadata": {},
   "source": [
    "## Diagrama color-magnitud"
   ]
  },
  {
   "cell_type": "code",
   "execution_count": 14,
   "id": "32acf0b5",
   "metadata": {},
   "outputs": [
    {
     "data": {
      "image/png": "[encoded data removed]",
      "text/plain": [
       "<Figure size 640x480 with 1 Axes>"
      ]
     },
     "metadata": {},
     "output_type": "display_data"
    }
   ],
   "source": [
    "cluster_members_mass.plot.scatter(\n",
    "    x='BP-RP', \n",
    "    y='Gmag',\n",
    "    s=0.5,\n",
    "    c='000',\n",
    "    alpha=0.5)\n",
    "plt.show()"
   ]
  },
  {
   "cell_type": "code",
   "execution_count": null,
   "id": "e72fce87",
   "metadata": {},
   "outputs": [],
   "source": []
  }
 ],
 "metadata": {
  "kernelspec": {
   "display_name": "astroconda",
   "language": "python",
   "name": "python3"
  },
  "language_info": {
   "codemirror_mode": {
    "name": "ipython",
    "version": 3
   },
   "file_extension": ".py",
   "mimetype": "text/x-python",
   "name": "python",
   "nbconvert_exporter": "python",
   "pygments_lexer": "ipython3",
   "version": "3.7.16"
  }
 },
 "nbformat": 4,
 "nbformat_minor": 5
}
